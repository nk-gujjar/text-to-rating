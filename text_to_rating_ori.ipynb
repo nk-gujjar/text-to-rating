{
  "cells": [
    {
      "cell_type": "code",
      "execution_count": 6,
      "metadata": {
        "id": "kPowqrd2H2n-"
      },
      "outputs": [],
      "source": [
        "# !pip install gdown\n"
      ]
    },
    {
      "cell_type": "code",
      "execution_count": 7,
      "metadata": {
        "id": "W1ZIB7k4IhET"
      },
      "outputs": [],
      "source": [
        "import numpy as np\n",
        "import pandas as pd\n",
        "import re\n",
        "from sklearn.model_selection import train_test_split\n",
        "from tensorflow.keras.preprocessing.text import Tokenizer\n",
        "from tensorflow.keras.preprocessing.sequence import pad_sequences\n",
        "from tensorflow.keras.models import Sequential\n",
        "from tensorflow.keras.layers import Embedding , LSTM, Dense , Dropout\n",
        "from tensorflow.keras.initializers import Constant\n",
        "\n",
        "from sklearn.metrics import confusion_matrix , classification_report\n",
        "from tensorflow.keras.optimizers import SGD , Adam\n",
        "import bz2\n",
        "import csv\n",
        "from sklearn.metrics import roc_auc_score\n",
        "import gdown\n"
      ]
    },
    {
      "cell_type": "code",
      "execution_count": 8,
      "metadata": {
        "colab": {
          "base_uri": "https://localhost:8080/",
          "height": 345
        },
        "id": "wFuG7tyzImlD",
        "outputId": "40ef6174-c5a7-4098-84a4-3511624088e2"
      },
      "outputs": [
        {
          "output_type": "stream",
          "name": "stderr",
          "text": [
            "Downloading...\n",
            "From: https://drive.google.com/uc?id=1iOcVRDLVhbvenxI3ij6B3gBJXbkTcUee\n",
            "To: /content/your_data1.csv\n",
            "100%|██████████| 2.19M/2.19M [00:00<00:00, 94.9MB/s]\n",
            "Downloading...\n",
            "From: https://drive.google.com/uc?id=1UkVKHzLRnFcWHPuw-egzeoSVWqHRHv9d\n",
            "To: /content/your_data2.csv\n",
            "100%|██████████| 228k/228k [00:00<00:00, 57.8MB/s]\n"
          ]
        },
        {
          "output_type": "execute_result",
          "data": {
            "text/plain": [
              "         0                             1  \\\n",
              "0  Column1                       Column2   \n",
              "1        1               mens ultrasheer   \n",
              "2        4       Surprisingly delightful   \n",
              "3        2  Works, but not as advertised   \n",
              "4        2                       Oh dear   \n",
              "\n",
              "                                                   2  \n",
              "0                                            Column3  \n",
              "1  This model may be ok for sedentary types, but ...  \n",
              "2  This is a fast read filled with unexpected hum...  \n",
              "3  I bought one of these chargers..the instructio...  \n",
              "4  I was excited to find a book ostensibly about ...  "
            ],
            "text/html": [
              "\n",
              "  <div id=\"df-919c6468-779a-43ea-a6ab-b07c4b10385a\" class=\"colab-df-container\">\n",
              "    <div>\n",
              "<style scoped>\n",
              "    .dataframe tbody tr th:only-of-type {\n",
              "        vertical-align: middle;\n",
              "    }\n",
              "\n",
              "    .dataframe tbody tr th {\n",
              "        vertical-align: top;\n",
              "    }\n",
              "\n",
              "    .dataframe thead th {\n",
              "        text-align: right;\n",
              "    }\n",
              "</style>\n",
              "<table border=\"1\" class=\"dataframe\">\n",
              "  <thead>\n",
              "    <tr style=\"text-align: right;\">\n",
              "      <th></th>\n",
              "      <th>0</th>\n",
              "      <th>1</th>\n",
              "      <th>2</th>\n",
              "    </tr>\n",
              "  </thead>\n",
              "  <tbody>\n",
              "    <tr>\n",
              "      <th>0</th>\n",
              "      <td>Column1</td>\n",
              "      <td>Column2</td>\n",
              "      <td>Column3</td>\n",
              "    </tr>\n",
              "    <tr>\n",
              "      <th>1</th>\n",
              "      <td>1</td>\n",
              "      <td>mens ultrasheer</td>\n",
              "      <td>This model may be ok for sedentary types, but ...</td>\n",
              "    </tr>\n",
              "    <tr>\n",
              "      <th>2</th>\n",
              "      <td>4</td>\n",
              "      <td>Surprisingly delightful</td>\n",
              "      <td>This is a fast read filled with unexpected hum...</td>\n",
              "    </tr>\n",
              "    <tr>\n",
              "      <th>3</th>\n",
              "      <td>2</td>\n",
              "      <td>Works, but not as advertised</td>\n",
              "      <td>I bought one of these chargers..the instructio...</td>\n",
              "    </tr>\n",
              "    <tr>\n",
              "      <th>4</th>\n",
              "      <td>2</td>\n",
              "      <td>Oh dear</td>\n",
              "      <td>I was excited to find a book ostensibly about ...</td>\n",
              "    </tr>\n",
              "  </tbody>\n",
              "</table>\n",
              "</div>\n",
              "    <div class=\"colab-df-buttons\">\n",
              "\n",
              "  <div class=\"colab-df-container\">\n",
              "    <button class=\"colab-df-convert\" onclick=\"convertToInteractive('df-919c6468-779a-43ea-a6ab-b07c4b10385a')\"\n",
              "            title=\"Convert this dataframe to an interactive table.\"\n",
              "            style=\"display:none;\">\n",
              "\n",
              "  <svg xmlns=\"http://www.w3.org/2000/svg\" height=\"24px\" viewBox=\"0 -960 960 960\">\n",
              "    <path d=\"M120-120v-720h720v720H120Zm60-500h600v-160H180v160Zm220 220h160v-160H400v160Zm0 220h160v-160H400v160ZM180-400h160v-160H180v160Zm440 0h160v-160H620v160ZM180-180h160v-160H180v160Zm440 0h160v-160H620v160Z\"/>\n",
              "  </svg>\n",
              "    </button>\n",
              "\n",
              "  <style>\n",
              "    .colab-df-container {\n",
              "      display:flex;\n",
              "      gap: 12px;\n",
              "    }\n",
              "\n",
              "    .colab-df-convert {\n",
              "      background-color: #E8F0FE;\n",
              "      border: none;\n",
              "      border-radius: 50%;\n",
              "      cursor: pointer;\n",
              "      display: none;\n",
              "      fill: #1967D2;\n",
              "      height: 32px;\n",
              "      padding: 0 0 0 0;\n",
              "      width: 32px;\n",
              "    }\n",
              "\n",
              "    .colab-df-convert:hover {\n",
              "      background-color: #E2EBFA;\n",
              "      box-shadow: 0px 1px 2px rgba(60, 64, 67, 0.3), 0px 1px 3px 1px rgba(60, 64, 67, 0.15);\n",
              "      fill: #174EA6;\n",
              "    }\n",
              "\n",
              "    .colab-df-buttons div {\n",
              "      margin-bottom: 4px;\n",
              "    }\n",
              "\n",
              "    [theme=dark] .colab-df-convert {\n",
              "      background-color: #3B4455;\n",
              "      fill: #D2E3FC;\n",
              "    }\n",
              "\n",
              "    [theme=dark] .colab-df-convert:hover {\n",
              "      background-color: #434B5C;\n",
              "      box-shadow: 0px 1px 3px 1px rgba(0, 0, 0, 0.15);\n",
              "      filter: drop-shadow(0px 1px 2px rgba(0, 0, 0, 0.3));\n",
              "      fill: #FFFFFF;\n",
              "    }\n",
              "  </style>\n",
              "\n",
              "    <script>\n",
              "      const buttonEl =\n",
              "        document.querySelector('#df-919c6468-779a-43ea-a6ab-b07c4b10385a button.colab-df-convert');\n",
              "      buttonEl.style.display =\n",
              "        google.colab.kernel.accessAllowed ? 'block' : 'none';\n",
              "\n",
              "      async function convertToInteractive(key) {\n",
              "        const element = document.querySelector('#df-919c6468-779a-43ea-a6ab-b07c4b10385a');\n",
              "        const dataTable =\n",
              "          await google.colab.kernel.invokeFunction('convertToInteractive',\n",
              "                                                    [key], {});\n",
              "        if (!dataTable) return;\n",
              "\n",
              "        const docLinkHtml = 'Like what you see? Visit the ' +\n",
              "          '<a target=\"_blank\" href=https://colab.research.google.com/notebooks/data_table.ipynb>data table notebook</a>'\n",
              "          + ' to learn more about interactive tables.';\n",
              "        element.innerHTML = '';\n",
              "        dataTable['output_type'] = 'display_data';\n",
              "        await google.colab.output.renderOutput(dataTable, element);\n",
              "        const docLink = document.createElement('div');\n",
              "        docLink.innerHTML = docLinkHtml;\n",
              "        element.appendChild(docLink);\n",
              "      }\n",
              "    </script>\n",
              "  </div>\n",
              "\n",
              "\n",
              "<div id=\"df-46f0967f-ad10-47cb-b6e6-ba37bd8b02b5\">\n",
              "  <button class=\"colab-df-quickchart\" onclick=\"quickchart('df-46f0967f-ad10-47cb-b6e6-ba37bd8b02b5')\"\n",
              "            title=\"Suggest charts\"\n",
              "            style=\"display:none;\">\n",
              "\n",
              "<svg xmlns=\"http://www.w3.org/2000/svg\" height=\"24px\"viewBox=\"0 0 24 24\"\n",
              "     width=\"24px\">\n",
              "    <g>\n",
              "        <path d=\"M19 3H5c-1.1 0-2 .9-2 2v14c0 1.1.9 2 2 2h14c1.1 0 2-.9 2-2V5c0-1.1-.9-2-2-2zM9 17H7v-7h2v7zm4 0h-2V7h2v10zm4 0h-2v-4h2v4z\"/>\n",
              "    </g>\n",
              "</svg>\n",
              "  </button>\n",
              "\n",
              "<style>\n",
              "  .colab-df-quickchart {\n",
              "      --bg-color: #E8F0FE;\n",
              "      --fill-color: #1967D2;\n",
              "      --hover-bg-color: #E2EBFA;\n",
              "      --hover-fill-color: #174EA6;\n",
              "      --disabled-fill-color: #AAA;\n",
              "      --disabled-bg-color: #DDD;\n",
              "  }\n",
              "\n",
              "  [theme=dark] .colab-df-quickchart {\n",
              "      --bg-color: #3B4455;\n",
              "      --fill-color: #D2E3FC;\n",
              "      --hover-bg-color: #434B5C;\n",
              "      --hover-fill-color: #FFFFFF;\n",
              "      --disabled-bg-color: #3B4455;\n",
              "      --disabled-fill-color: #666;\n",
              "  }\n",
              "\n",
              "  .colab-df-quickchart {\n",
              "    background-color: var(--bg-color);\n",
              "    border: none;\n",
              "    border-radius: 50%;\n",
              "    cursor: pointer;\n",
              "    display: none;\n",
              "    fill: var(--fill-color);\n",
              "    height: 32px;\n",
              "    padding: 0;\n",
              "    width: 32px;\n",
              "  }\n",
              "\n",
              "  .colab-df-quickchart:hover {\n",
              "    background-color: var(--hover-bg-color);\n",
              "    box-shadow: 0 1px 2px rgba(60, 64, 67, 0.3), 0 1px 3px 1px rgba(60, 64, 67, 0.15);\n",
              "    fill: var(--button-hover-fill-color);\n",
              "  }\n",
              "\n",
              "  .colab-df-quickchart-complete:disabled,\n",
              "  .colab-df-quickchart-complete:disabled:hover {\n",
              "    background-color: var(--disabled-bg-color);\n",
              "    fill: var(--disabled-fill-color);\n",
              "    box-shadow: none;\n",
              "  }\n",
              "\n",
              "  .colab-df-spinner {\n",
              "    border: 2px solid var(--fill-color);\n",
              "    border-color: transparent;\n",
              "    border-bottom-color: var(--fill-color);\n",
              "    animation:\n",
              "      spin 1s steps(1) infinite;\n",
              "  }\n",
              "\n",
              "  @keyframes spin {\n",
              "    0% {\n",
              "      border-color: transparent;\n",
              "      border-bottom-color: var(--fill-color);\n",
              "      border-left-color: var(--fill-color);\n",
              "    }\n",
              "    20% {\n",
              "      border-color: transparent;\n",
              "      border-left-color: var(--fill-color);\n",
              "      border-top-color: var(--fill-color);\n",
              "    }\n",
              "    30% {\n",
              "      border-color: transparent;\n",
              "      border-left-color: var(--fill-color);\n",
              "      border-top-color: var(--fill-color);\n",
              "      border-right-color: var(--fill-color);\n",
              "    }\n",
              "    40% {\n",
              "      border-color: transparent;\n",
              "      border-right-color: var(--fill-color);\n",
              "      border-top-color: var(--fill-color);\n",
              "    }\n",
              "    60% {\n",
              "      border-color: transparent;\n",
              "      border-right-color: var(--fill-color);\n",
              "    }\n",
              "    80% {\n",
              "      border-color: transparent;\n",
              "      border-right-color: var(--fill-color);\n",
              "      border-bottom-color: var(--fill-color);\n",
              "    }\n",
              "    90% {\n",
              "      border-color: transparent;\n",
              "      border-bottom-color: var(--fill-color);\n",
              "    }\n",
              "  }\n",
              "</style>\n",
              "\n",
              "  <script>\n",
              "    async function quickchart(key) {\n",
              "      const quickchartButtonEl =\n",
              "        document.querySelector('#' + key + ' button');\n",
              "      quickchartButtonEl.disabled = true;  // To prevent multiple clicks.\n",
              "      quickchartButtonEl.classList.add('colab-df-spinner');\n",
              "      try {\n",
              "        const charts = await google.colab.kernel.invokeFunction(\n",
              "            'suggestCharts', [key], {});\n",
              "      } catch (error) {\n",
              "        console.error('Error during call to suggestCharts:', error);\n",
              "      }\n",
              "      quickchartButtonEl.classList.remove('colab-df-spinner');\n",
              "      quickchartButtonEl.classList.add('colab-df-quickchart-complete');\n",
              "    }\n",
              "    (() => {\n",
              "      let quickchartButtonEl =\n",
              "        document.querySelector('#df-46f0967f-ad10-47cb-b6e6-ba37bd8b02b5 button');\n",
              "      quickchartButtonEl.style.display =\n",
              "        google.colab.kernel.accessAllowed ? 'block' : 'none';\n",
              "    })();\n",
              "  </script>\n",
              "</div>\n",
              "\n",
              "    </div>\n",
              "  </div>\n"
            ]
          },
          "metadata": {},
          "execution_count": 8
        }
      ],
      "source": [
        "file_id_train = '1iOcVRDLVhbvenxI3ij6B3gBJXbkTcUee'\n",
        "url = f'https://drive.google.com/uc?id={file_id_train}'\n",
        "\n",
        "#https://docs.google.com/spreadsheets/d/1iOcVRDLVhbvenxI3ij6B3gBJXbkTcUee/edit?usp=sharing&ouid=111164914988840298826&rtpof=true&sd=true\n",
        "# Specify the output file name\n",
        "output1 = 'your_data1.csv'\n",
        "\n",
        "# Download the file from Google Drive\n",
        "gdown.download(url, output1, quiet=False)\n",
        "\n",
        "# Read the CSV file into a Pandas DataFrame\n",
        "train_data = pd.read_excel(output1, header=None)\n",
        "\n",
        "# Display the first few rows of the DataFrame\n",
        "#train_data.head()\n",
        "\n",
        "\n",
        "# https://drive.google.com/file/d/1uulB7PXy3v6wWpUGQgdCYogOG_KBiChu/view?usp=drive_link\n",
        "#https://docs.google.com/spreadsheets/d/1UkVKHzLRnFcWHPuw-egzeoSVWqHRHv9d/edit?usp=drive_link&ouid=111164914988840298826&rtpof=true&sd=true\n",
        "\n",
        "file_id_test = '1UkVKHzLRnFcWHPuw-egzeoSVWqHRHv9d'\n",
        "url2 = f'https://drive.google.com/uc?id={file_id_test}'\n",
        "\n",
        "# Specify the output file name\n",
        "output2 = 'your_data2.csv'\n",
        "\n",
        "# Download the file from Google Drive\n",
        "gdown.download(url2, output2, quiet=False)\n",
        "\n",
        "# Read the CSV file into a Pandas DataFrame\n",
        "test_data = pd.read_excel(output2, header=None)\n",
        "\n",
        "# Display the first few rows of the DataFrame\n",
        "test_data.head()\n",
        "\n",
        "\n",
        "# train_data = pd.read_csv(\"./dataset/train.csv\",header = None)\n",
        "\n",
        "# # train_data.head()\n",
        "\n",
        "# test_data = pd.read_csv(\"./dataset/test.csv\",header = None)\n",
        "# # test_data.head()"
      ]
    },
    {
      "cell_type": "code",
      "execution_count": 9,
      "metadata": {
        "id": "o1Qjjo3aJlNf"
      },
      "outputs": [],
      "source": [
        "train_sentence  = train_data[2]\n",
        "train_rating = train_data[0]\n",
        "\n",
        "test_sentence  = test_data[2]\n",
        "test_rating = test_data[0]"
      ]
    },
    {
      "cell_type": "code",
      "execution_count": 15,
      "metadata": {
        "id": "j4dyrwPoJ8-X"
      },
      "outputs": [],
      "source": [
        "MAX_LEN = 1000\n",
        "Vocab_size = 10000\n",
        "embedding_dim = 100\n",
        "\n",
        "#tokanization\n",
        "tokenizer = Tokenizer(num_words=Vocab_size)\n",
        "tokenizer.fit_on_texts(train_sentence.tolist() + test_sentence.tolist())"
      ]
    },
    {
      "cell_type": "code",
      "execution_count": 16,
      "metadata": {
        "id": "-pMHdAxCJ_YT"
      },
      "outputs": [],
      "source": [
        "def clean_text(text):\n",
        "    text = text.lower()\n",
        "    text = re.sub(r\"[^\\w\\s]\",\"\",text)\n",
        "    text = text.strip()\n",
        "    return text\n",
        "\n",
        "train_sentence = train_sentence.apply(clean_text)\n",
        "test_sentence = test_sentence.apply(clean_text)"
      ]
    },
    {
      "cell_type": "code",
      "execution_count": 17,
      "metadata": {
        "id": "lC11tpTwKBgs"
      },
      "outputs": [],
      "source": [
        "# Convert sentences to sequences\n",
        "train_sequence = tokenizer.texts_to_sequences(train_sentence)\n",
        "test_sequence = tokenizer.texts_to_sequences(test_sentence)\n",
        "\n",
        "#pad sequence\n",
        "train_sequence = pad_sequences(train_sequence, maxlen=MAX_LEN)\n",
        "test_sequence = pad_sequences(test_sequence, maxlen=MAX_LEN)"
      ]
    },
    {
      "cell_type": "code",
      "execution_count": 25,
      "metadata": {
        "colab": {
          "base_uri": "https://localhost:8080/"
        },
        "id": "U1KvmYwOKEgs",
        "outputId": "5dc4b8e2-5c9c-4f78-b3d7-1ff9928a054c"
      },
      "outputs": [
        {
          "output_type": "stream",
          "name": "stdout",
          "text": [
            "x_train shape: (10000, 1000)\n",
            "y_train shape: (10000,)\n",
            "x_test shape: (1001, 1000)\n",
            "y_test shape: (1001,)\n"
          ]
        }
      ],
      "source": [
        "if not Vocab_size:  # If vocabulary size not explicitly set\n",
        "    word_index = tokenizer.word_index\n",
        "    num_words = min(Vocab_size, len(word_index))  # Truncate if necessary\n",
        "    embedding_matrix = np.zeros((num_words, 128))  # Adjust embedding dimension\n",
        "    for word, i in word_index.items():\n",
        "        if i >= num_words:\n",
        "            continue\n",
        "        embedding_matrix[i] = ...  # Fill with word embeddings (e.g., from Word2Vec, GloVe)\n",
        "\n",
        "# Prepare final output for model training\n",
        "x_train = train_sequence\n",
        "y_train = train_rating\n",
        "x_test = test_sequence\n",
        "y_test = test_rating\n",
        "\n",
        "# Print data shapes for verification\n",
        "print(\"x_train shape:\", x_train.shape)\n",
        "print(\"y_train shape:\", y_train.shape)\n",
        "print(\"x_test shape:\", x_test.shape)\n",
        "print(\"y_test shape:\", y_test.shape)"
      ]
    },
    {
      "cell_type": "code",
      "execution_count": 19,
      "metadata": {
        "id": "wDtLBEVTKGfs"
      },
      "outputs": [],
      "source": [
        "\n",
        "\n",
        "\n",
        "word_index = tokenizer.word_index\n",
        "\n",
        "# Calculate num_words before using it\n",
        "num_words = min(Vocab_size, len(word_index))\n",
        "embedding_matrix = np.zeros((num_words, 100))\n",
        "# Adjust embedding dimension\n",
        "\n",
        "\n",
        "# Model architecture\n",
        "model = Sequential()\n",
        "model.add(Embedding(input_dim=Vocab_size, output_dim=embedding_dim, embeddings_initializer=Constant(embedding_matrix)))\n",
        "\n",
        "model.add(LSTM(units=64, return_sequences=True))  # Consider multiple LSTM layers\n",
        "model.add(LSTM(units=32))\n",
        "model.add(Dense(1, activation='linear'))  # Adjust activation as needed\n",
        "\n",
        "model.compile(loss='mean_squared_error', optimizer='adam')"
      ]
    },
    {
      "cell_type": "code",
      "execution_count": 20,
      "metadata": {
        "id": "LVtYNb3kKKJm"
      },
      "outputs": [],
      "source": [
        "# Split data into training and validation sets\n",
        "from sklearn.model_selection import train_test_split\n",
        "x_train, x_val, y_train, y_val = train_test_split(x_train, y_train, test_size=0.1, random_state=42)"
      ]
    },
    {
      "cell_type": "code",
      "execution_count": null,
      "metadata": {
        "id": "4aOpzcgwKMGh",
        "colab": {
          "base_uri": "https://localhost:8080/"
        },
        "outputId": "3f090f16-031c-4c1b-9765-6b1929125fc3"
      },
      "outputs": [
        {
          "output_type": "stream",
          "name": "stdout",
          "text": [
            "Epoch 1/5\n",
            "313/313 [==============================] - 360s 1s/step - loss: 0.5908 - val_loss: 0.5927\n",
            "Epoch 2/5\n",
            "299/313 [===========================>..] - ETA: 15s - loss: 0.3945"
          ]
        }
      ],
      "source": [
        "# Train the model\n",
        "model.fit(x_train, y_train, epochs=5, validation_data=(x_val, y_val))"
      ]
    },
    {
      "cell_type": "code",
      "execution_count": 29,
      "metadata": {
        "id": "rOGh1-XHKOxO",
        "colab": {
          "base_uri": "https://localhost:8080/"
        },
        "outputId": "dc09ebce-0118-43de-f5d5-2e6ae6d92f12"
      },
      "outputs": [
        {
          "output_type": "stream",
          "name": "stdout",
          "text": [
            "32/32 [==============================] - 8s 254ms/step - loss: 1.2028\n",
            "Mean Squared Error: KerasTensor(type_spec=TensorSpec(shape=(), dtype=tf.float32, name=None), name='tf.math.reduce_mean/Mean:0', description=\"created by layer 'tf.math.reduce_mean'\")\n"
          ]
        }
      ],
      "source": [
        "from tensorflow.keras import backend as K\n",
        "\n",
        "\n",
        "#Evaluate performance\n",
        "loss= model.evaluate(x_val, y_val)\n",
        "mse = K.mean(K.square(model.output - y_val))\n",
        "print(\"Mean Squared Error:\", mse)"
      ]
    },
    {
      "cell_type": "code",
      "execution_count": 34,
      "metadata": {
        "id": "AORg6wgCKR24",
        "colab": {
          "base_uri": "https://localhost:8080/"
        },
        "outputId": "0a6f9fc3-e171-4ddb-dcc8-153e8a10ccc5"
      },
      "outputs": [
        {
          "output_type": "stream",
          "name": "stdout",
          "text": [
            "1/1 [==============================] - 0s 230ms/step\n",
            "Predicted ratings: [[3.5844321]\n",
            " [1.6525369]]\n"
          ]
        }
      ],
      "source": [
        "# Make predictions on new sentences\n",
        "new_sentences = [\"This is an amazing movie!\", \"I hated this book. It was terrible.\"]\n",
        "new_sequences = tokenizer.texts_to_sequences(new_sentences)\n",
        "new_sequences = pad_sequences(new_sequences, maxlen=MAX_LEN)\n",
        "predictions = model.predict(new_sequences)\n",
        "print(\"Predicted ratings:\", predictions)"
      ]
    }
  ],
  "metadata": {
    "colab": {
      "provenance": []
    },
    "kernelspec": {
      "display_name": "Python 3",
      "name": "python3"
    },
    "language_info": {
      "name": "python"
    }
  },
  "nbformat": 4,
  "nbformat_minor": 0
}